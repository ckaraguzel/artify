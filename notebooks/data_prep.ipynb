{
  "nbformat": 4,
  "nbformat_minor": 0,
  "metadata": {
    "colab": {
      "provenance": []
    },
    "kernelspec": {
      "name": "python3",
      "display_name": "Python 3"
    },
    "language_info": {
      "name": "python"
    }
  },
  "cells": [
    {
      "cell_type": "code",
      "execution_count": null,
      "metadata": {
        "colab": {
          "base_uri": "https://localhost:8080/"
        },
        "id": "weDnftx8Il9S",
        "outputId": "94661768-53f7-4989-b5b9-0e809cceca40"
      },
      "outputs": [
        {
          "output_type": "stream",
          "name": "stdout",
          "text": [
            "Mounted at /content/drive\n"
          ]
        }
      ],
      "source": [
        "from google.colab import drive\n",
        "drive.mount('/content/drive')"
      ]
    },
    {
      "cell_type": "code",
      "source": [
        "import pandas as pd\n",
        "import numpy as np\n",
        "from torch.utils.data import Dataset, DataLoader  # Import Dataset and DataLoader\n",
        "import os\n",
        "import shutil\n",
        "from glob import glob\n",
        "from sklearn.model_selection import train_test_split"
      ],
      "metadata": {
        "id": "ymAB7JqmJI51"
      },
      "execution_count": null,
      "outputs": []
    },
    {
      "cell_type": "code",
      "source": [
        "# Define paths\n",
        "base_dir = '/content/drive/My Drive/colab_data/wikiart_dataset'\n",
        "output_dir = '/content/drive/My Drive/colab_data/wikiart_split'\n",
        "os.makedirs(output_dir, exist_ok=True)\n",
        "\n",
        "# Define split ratios\n",
        "train_ratio = 0.3\n",
        "val_ratio = 0.10\n",
        "test_ratio = 0.60\n",
        "\n",
        "# Loop through each painter's folder in the base directory\n",
        "for painter in os.listdir(base_dir):\n",
        "    painter_dir = os.path.join(base_dir, painter)\n",
        "\n",
        "    # Skip if not a directory\n",
        "    if not os.path.isdir(painter_dir):\n",
        "        continue\n",
        "\n",
        "    # Create train, val, and test directories for each painter in the output directory\n",
        "    for split in ['train', 'val', 'test']:\n",
        "        os.makedirs(os.path.join(output_dir, split, painter), exist_ok=True)\n",
        "\n",
        "    # Get list of image files for the current painter\n",
        "    images = glob(os.path.join(painter_dir, '*.jpg'))  # Adjust extension if needed\n",
        "\n",
        "    # Check if there are enough images to split\n",
        "    if len(images) < 2:\n",
        "        print(f\"Not enough images to split for {painter}. Skipping...\")\n",
        "        continue\n",
        "\n",
        "    # Split the images into train, validation, and test sets\n",
        "    train_images, temp_images = train_test_split(images, test_size=(val_ratio + test_ratio), random_state=42)\n",
        "    val_images, test_images = train_test_split(temp_images, test_size=test_ratio / (val_ratio + test_ratio), random_state=42)\n",
        "\n",
        "    # Copy images to the respective folders\n",
        "    for img_path in train_images:\n",
        "        shutil.copy(img_path, os.path.join(output_dir, 'train', painter))\n",
        "    for img_path in val_images:\n",
        "        shutil.copy(img_path, os.path.join(output_dir, 'val', painter))\n",
        "    for img_path in test_images:\n",
        "        shutil.copy(img_path, os.path.join(output_dir, 'test', painter))\n",
        "\n",
        "print(\"Data split into train, validation, and test sets successfully for each painter!\")"
      ],
      "metadata": {
        "colab": {
          "base_uri": "https://localhost:8080/"
        },
        "id": "g7hFaHlgL8MI",
        "outputId": "3e851f67-292f-4fea-a517-d037cd91713f"
      },
      "execution_count": null,
      "outputs": [
        {
          "output_type": "stream",
          "name": "stdout",
          "text": [
            "Data split into train, validation, and test sets successfully for each painter!\n"
          ]
        }
      ]
    },
    {
      "cell_type": "code",
      "source": [],
      "metadata": {
        "id": "50JTWbfLVRnw"
      },
      "execution_count": null,
      "outputs": []
    }
  ]
}